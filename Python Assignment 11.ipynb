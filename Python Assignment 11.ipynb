{
 "cells": [
  {
   "cell_type": "markdown",
   "id": "b85463a7",
   "metadata": {},
   "source": [
    "**__1. Create an assert statement that throws an AssertionError if the variable spam is a negative\n",
    "integer.__**"
   ]
  },
  {
   "cell_type": "code",
   "execution_count": 14,
   "id": "1c4f2569",
   "metadata": {},
   "outputs": [
    {
     "data": {
      "text/plain": [
       "'Number must be positive'"
      ]
     },
     "execution_count": 14,
     "metadata": {},
     "output_type": "execute_result"
    }
   ],
   "source": [
    "def assertion(x):\n",
    "    try:\n",
    "        assert x < 0, \"Number must be positive\" \n",
    "    except AssertionError as a:\n",
    "        return str(a)\n",
    "assertion(3)"
   ]
  },
  {
   "cell_type": "markdown",
   "id": "0f055147",
   "metadata": {},
   "source": [
    "**__2. Write an assert statement that triggers an AssertionError if the variables eggs and bacon contain\n",
    "strings that are the same as each other, even if their cases are different (that is, &#39;hello&#39; and &#39;hello&#39; are\n",
    "considered the same, and &#39;goodbye&#39; and &#39;GOODbye&#39; are also considered the same).__**"
   ]
  },
  {
   "cell_type": "code",
   "execution_count": 21,
   "id": "d16b5917",
   "metadata": {},
   "outputs": [],
   "source": [
    "def spellcheck(eggs:str, bacon:str):\n",
    "    if len(eggs) == len(bacon):\n",
    "        for i, let in enumerate(eggs):\n",
    "            assert eggs[i] != bacon[i] or eggs[i].lower() != bacon[i] or eggs[i].upper() != bacon[i], \"eggs/bacon can't be same\"\n",
    "    return eggs, bacon"
   ]
  },
  {
   "cell_type": "code",
   "execution_count": 22,
   "id": "e23e7cf0",
   "metadata": {},
   "outputs": [
    {
     "data": {
      "text/plain": [
       "('hello', 'Hullo')"
      ]
     },
     "execution_count": 22,
     "metadata": {},
     "output_type": "execute_result"
    }
   ],
   "source": [
    "spellcheck('hello', \"Hullo\")"
   ]
  },
  {
   "cell_type": "markdown",
   "id": "0021f764",
   "metadata": {},
   "source": [
    "**__3. Create an assert statement that throws an AssertionError every time.__**"
   ]
  },
  {
   "cell_type": "code",
   "execution_count": 19,
   "id": "6365beaa",
   "metadata": {},
   "outputs": [
    {
     "ename": "AssertionError",
     "evalue": "Always raising",
     "output_type": "error",
     "traceback": [
      "\u001b[1;31m---------------------------------------------------------------------------\u001b[0m",
      "\u001b[1;31mAssertionError\u001b[0m                            Traceback (most recent call last)",
      "Cell \u001b[1;32mIn[19], line 5\u001b[0m\n\u001b[0;32m      3\u001b[0m         \u001b[38;5;28;01mraise\u001b[39;00m \u001b[38;5;167;01mAssertionError\u001b[39;00m(\u001b[38;5;124m\"\u001b[39m\u001b[38;5;124mAlways raising\u001b[39m\u001b[38;5;124m\"\u001b[39m)\n\u001b[0;32m      4\u001b[0m         \u001b[38;5;28mprint\u001b[39m(\u001b[38;5;124m\"\u001b[39m\u001b[38;5;124m2\u001b[39m\u001b[38;5;124m\"\u001b[39m)\n\u001b[1;32m----> 5\u001b[0m throwsAssert()\n",
      "Cell \u001b[1;32mIn[19], line 3\u001b[0m, in \u001b[0;36mthrowsAssert\u001b[1;34m()\u001b[0m\n\u001b[0;32m      1\u001b[0m \u001b[38;5;28;01mdef\u001b[39;00m \u001b[38;5;21mthrowsAssert\u001b[39m():\n\u001b[0;32m      2\u001b[0m     \u001b[38;5;28;01mwhile\u001b[39;00m \u001b[38;5;28;01mTrue\u001b[39;00m:\n\u001b[1;32m----> 3\u001b[0m         \u001b[38;5;28;01mraise\u001b[39;00m \u001b[38;5;167;01mAssertionError\u001b[39;00m(\u001b[38;5;124m\"\u001b[39m\u001b[38;5;124mAlways raising\u001b[39m\u001b[38;5;124m\"\u001b[39m)\n\u001b[0;32m      4\u001b[0m         \u001b[38;5;28mprint\u001b[39m(\u001b[38;5;124m\"\u001b[39m\u001b[38;5;124m2\u001b[39m\u001b[38;5;124m\"\u001b[39m)\n",
      "\u001b[1;31mAssertionError\u001b[0m: Always raising"
     ]
    }
   ],
   "source": [
    "def throwsAssert():\n",
    "    while True:\n",
    "        raise AssertionError(\"Always raising\")\n",
    "        print(\"2\")\n",
    "throwsAssert()"
   ]
  },
  {
   "cell_type": "markdown",
   "id": "4bf1c140",
   "metadata": {},
   "source": [
    "**__4. What are the two lines that must be present in your software in order to call logging.debug()?__**"
   ]
  },
  {
   "cell_type": "code",
   "execution_count": 20,
   "id": "4246a6ba",
   "metadata": {},
   "outputs": [],
   "source": [
    "import logging\n",
    "logging.basicConfig(level=logging.DEBUG, format='%(asctime)s - %(levelname)s - %(message)s')"
   ]
  },
  {
   "cell_type": "markdown",
   "id": "e560424b",
   "metadata": {},
   "source": [
    "**__5. What are the two lines that your program must have in order to have logging.debug() send a\n",
    "logging message to a file named programLog.txt?__**"
   ]
  },
  {
   "cell_type": "code",
   "execution_count": 23,
   "id": "a7a4539e",
   "metadata": {},
   "outputs": [],
   "source": [
    "import logging\n",
    "logging.basicConfig(filename=\"programLog.txt\", level=logging.DEBUG, format='%(asctime)s - %(levelname)s - %(message)s')"
   ]
  },
  {
   "cell_type": "markdown",
   "id": "48ae829f",
   "metadata": {},
   "source": [
    "**__6. What are the five levels of logging?__**"
   ]
  },
  {
   "cell_type": "code",
   "execution_count": 24,
   "id": "4ae31156",
   "metadata": {},
   "outputs": [],
   "source": [
    "#INFO\n",
    "#DEBUG\n",
    "#ERROR\n",
    "#WARNING\n",
    "#CRITICAL"
   ]
  },
  {
   "cell_type": "markdown",
   "id": "d66afea2",
   "metadata": {},
   "source": [
    "**__7. What line of code would you add to your software to disable all logging messages?__**"
   ]
  },
  {
   "cell_type": "code",
   "execution_count": 27,
   "id": "ceefa9b4",
   "metadata": {},
   "outputs": [],
   "source": [
    "logging.disable(logging.DEBUG)"
   ]
  },
  {
   "cell_type": "markdown",
   "id": "28645602",
   "metadata": {},
   "source": [
    "***___8.Why is using logging messages better than using print() to display the same message?___***"
   ]
  },
  {
   "cell_type": "code",
   "execution_count": 28,
   "id": "444dc9d6",
   "metadata": {},
   "outputs": [],
   "source": [
    "# using the standard logging module keeps track of events, with the print statement, your program is in the production level\n",
    "# While at that, the logging of program events gives you more flexibility"
   ]
  },
  {
   "cell_type": "markdown",
   "id": "35944b81",
   "metadata": {},
   "source": [
    "**__9. What are the differences between the Step Over, Step In, and Step Out buttons in the debugger?__**"
   ]
  },
  {
   "cell_type": "markdown",
   "id": "4be5fdc4",
   "metadata": {},
   "source": [
    "Step Over moves to the next line of executable code in a file while running the current scope, it executes the function when it comes across it like a black box\n",
    "\n",
    "Step In executes the function and makes you see how it does that line by line\n",
    "If you have a stepped In a function call, and you don't want to see how the function is executed internally, then you can use the step Out button"
   ]
  },
  {
   "cell_type": "markdown",
   "id": "0f8ae5dd",
   "metadata": {},
   "source": [
    "**__10.After you click Continue, when will the debugger stop ?__**"
   ]
  },
  {
   "cell_type": "code",
   "execution_count": 29,
   "id": "572a45fd",
   "metadata": {},
   "outputs": [
    {
     "ename": "SyntaxError",
     "evalue": "invalid syntax (373688299.py, line 1)",
     "output_type": "error",
     "traceback": [
      "\u001b[1;36m  Cell \u001b[1;32mIn[29], line 1\u001b[1;36m\u001b[0m\n\u001b[1;33m    The program runs until you stop it\u001b[0m\n\u001b[1;37m        ^\u001b[0m\n\u001b[1;31mSyntaxError\u001b[0m\u001b[1;31m:\u001b[0m invalid syntax\n"
     ]
    }
   ],
   "source": [
    "The program runs until you stop it"
   ]
  },
  {
   "cell_type": "code",
   "execution_count": null,
   "id": "5fa2a36b",
   "metadata": {},
   "outputs": [],
   "source": []
  }
 ],
 "metadata": {
  "kernelspec": {
   "display_name": "Python 3 (ipykernel)",
   "language": "python",
   "name": "python3"
  },
  "language_info": {
   "codemirror_mode": {
    "name": "ipython",
    "version": 3
   },
   "file_extension": ".py",
   "mimetype": "text/x-python",
   "name": "python",
   "nbconvert_exporter": "python",
   "pygments_lexer": "ipython3",
   "version": "3.11.4"
  }
 },
 "nbformat": 4,
 "nbformat_minor": 5
}
