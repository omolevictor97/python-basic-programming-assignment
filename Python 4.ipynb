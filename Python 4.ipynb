{
 "cells": [
  {
   "cell_type": "markdown",
   "id": "812449de",
   "metadata": {},
   "source": [
    "### Question 1\n",
    "\n",
    "1. Write a Python Program to Find the Factorial of a Number?"
   ]
  },
  {
   "cell_type": "code",
   "execution_count": 1,
   "id": "866fd8bf",
   "metadata": {},
   "outputs": [],
   "source": [
    "def factorial(n):\n",
    "    \"\"\"\n",
    "    This function takes any number (n) and calculates the factorial\n",
    "    \"\"\"\n",
    "    try:\n",
    "        if type(n) != int or n < 0:\n",
    "            return f\"{n} is not a valid integer that we can get the factorial\"\n",
    "        elif n == 0 or n == 1:\n",
    "            return f\"The factorial of {n} is 1\"\n",
    "        elif n > 1 and n > 0 :\n",
    "            factorial = 1\n",
    "            for i in range(1, n+1):\n",
    "                factorial = factorial * i\n",
    "            return factorial\n",
    "    except Exception as e:\n",
    "        return str(e)"
   ]
  },
  {
   "cell_type": "code",
   "execution_count": 2,
   "id": "25b7b89f",
   "metadata": {},
   "outputs": [
    {
     "data": {
      "text/plain": [
       "'-2 is not a valid integer that we can get the factorial'"
      ]
     },
     "execution_count": 2,
     "metadata": {},
     "output_type": "execute_result"
    }
   ],
   "source": [
    "factorial(-2)"
   ]
  },
  {
   "cell_type": "markdown",
   "id": "e237450b",
   "metadata": {},
   "source": [
    "### Question 2\n",
    "\n",
    "\n",
    "2. Write a Python Program to Display the multiplication Table?"
   ]
  },
  {
   "cell_type": "code",
   "execution_count": 3,
   "id": "59b064b5",
   "metadata": {},
   "outputs": [],
   "source": [
    "def multiplication_table(num, n):\n",
    "    \"\"\"\n",
    "    This function takes two (2) arguments,\n",
    "    1. num - the (num) parameter is the number you want to print the multiplication\n",
    "    2. n - the (n) parameter is the number of limits you want to print\n",
    "    \"\"\"\n",
    "    try:\n",
    "        if type(num) != int or type(n) != int:\n",
    "            return f\" Either {num} or {n} is not an integer \"\n",
    "        elif type(num) == int and type(n) == int:\n",
    "            for i in range(1,n+1):\n",
    "                multiple = num * i\n",
    "                print(f\"{num} * {i} == {multiple}\")\n",
    "    except Exception as e:\n",
    "        return f\"{e}\""
   ]
  },
  {
   "cell_type": "code",
   "execution_count": 4,
   "id": "d2d6c9ae",
   "metadata": {},
   "outputs": [
    {
     "name": "stdout",
     "output_type": "stream",
     "text": [
      "7 * 1 == 7\n",
      "7 * 2 == 14\n",
      "7 * 3 == 21\n",
      "7 * 4 == 28\n",
      "7 * 5 == 35\n",
      "7 * 6 == 42\n",
      "7 * 7 == 49\n",
      "7 * 8 == 56\n",
      "7 * 9 == 63\n",
      "7 * 10 == 70\n",
      "7 * 11 == 77\n",
      "7 * 12 == 84\n",
      "7 * 13 == 91\n",
      "7 * 14 == 98\n",
      "7 * 15 == 105\n",
      "7 * 16 == 112\n",
      "7 * 17 == 119\n",
      "7 * 18 == 126\n",
      "7 * 19 == 133\n",
      "7 * 20 == 140\n",
      "7 * 21 == 147\n"
     ]
    }
   ],
   "source": [
    "multiplication_table(7, 21)"
   ]
  },
  {
   "cell_type": "markdown",
   "id": "48e0b377",
   "metadata": {},
   "source": [
    "### Question 3\n",
    "\n",
    "\n",
    "3. Write a Python Program to Print the Fibonacci sequence?"
   ]
  },
  {
   "cell_type": "code",
   "execution_count": 5,
   "id": "22889539",
   "metadata": {},
   "outputs": [],
   "source": [
    "def Fibonacci(n):\n",
    "    \"\"\"\n",
    "    This method takes n as a parameter and prints out the fibonacci series n number of times\n",
    "    \"\"\"\n",
    "    try:\n",
    "        if type(n) == int:\n",
    "            fa = 0\n",
    "            fb = 1\n",
    "            fibonacci_list = []\n",
    "            for i in range(0,n):\n",
    "                fibonacci_list.append(fa)\n",
    "                fth = fb + fa\n",
    "                fa,fb = fb, fth\n",
    "                i += 1\n",
    "            return fibonacci_list\n",
    "    except Exception as e:\n",
    "        return e\n",
    "                "
   ]
  },
  {
   "cell_type": "code",
   "execution_count": 6,
   "id": "7098ac27",
   "metadata": {},
   "outputs": [
    {
     "data": {
      "text/plain": [
       "[0, 1, 1, 2, 3]"
      ]
     },
     "execution_count": 6,
     "metadata": {},
     "output_type": "execute_result"
    }
   ],
   "source": [
    "Fibonacci(5)"
   ]
  },
  {
   "cell_type": "markdown",
   "id": "0bcd6b55",
   "metadata": {},
   "source": [
    "### Question 4\n",
    "\n",
    "\n",
    "4. Write a Python Program to Check Armstrong Number?"
   ]
  },
  {
   "cell_type": "code",
   "execution_count": 7,
   "id": "4eefd36f",
   "metadata": {},
   "outputs": [],
   "source": [
    "def armstrong_check(n):\n",
    "    \"\"\"\n",
    "    This method does the armstrong check\n",
    "    \"\"\"\n",
    "    try:\n",
    "        if type(n) != int:\n",
    "            return f\"{n} is not a proper integer\"\n",
    "        elif type(n) == int:\n",
    "            n_div_100 = 0\n",
    "            n_div_10 = 0\n",
    "            sum_of_ns = 0\n",
    "            real_num = n\n",
    "            while real_num >= 100:\n",
    "                n_div_100 = real_num // 100\n",
    "                real_num = real_num - (n_div_100 * 100)\n",
    "                \n",
    "            while real_num >= 10:\n",
    "                n_div_10 = real_num // 10\n",
    "                real_num = real_num - (n_div_10 * 10)\n",
    "                \n",
    "            sum_of_ns = (n_div_100 ** 3) + (n_div_10 ** 3) + (real_num ** 3)\n",
    "            if sum_of_ns == n:\n",
    "                return f\"{n} is an armstrong number\"\n",
    "            return f\"{n} is not an armstrong number\"\n",
    "    except Exception as e:\n",
    "        return str(e)"
   ]
  },
  {
   "cell_type": "code",
   "execution_count": 8,
   "id": "92d21813",
   "metadata": {},
   "outputs": [
    {
     "data": {
      "text/plain": [
       "'372 is not an armstrong number'"
      ]
     },
     "execution_count": 8,
     "metadata": {},
     "output_type": "execute_result"
    }
   ],
   "source": [
    "armstrong_check(372)"
   ]
  },
  {
   "cell_type": "markdown",
   "id": "a4565421",
   "metadata": {},
   "source": [
    "### Question 5\n",
    "\n",
    "\n",
    "5. Write a Python Program to Find Armstrong Number in an Interval?"
   ]
  },
  {
   "cell_type": "code",
   "execution_count": 9,
   "id": "33bb61c4",
   "metadata": {},
   "outputs": [],
   "source": [
    "def armstrong_interval(num1, num2):\n",
    "    \"\"\"\n",
    "    This function helps to extract numbers that satisfies the armstrong number in an interval\n",
    "    \"\"\"\n",
    "    try:\n",
    "        if type(num1) != int or type(num2) != int:\n",
    "            return f\"Either {num1} or {num2} cannot be any data type other than an integer\"\n",
    "        elif type(num1) == int and type(num2) == int:\n",
    "            n_div_100 = 0\n",
    "            n_div_10 = 0\n",
    "        \n",
    "            for i in range(num1, num2+1):\n",
    "                real_num = i\n",
    "        \n",
    "                while real_num >= 100:\n",
    "                    n_div_100 = real_num // 100\n",
    "                    real_num = real_num - (n_div_100 * 100)\n",
    "    \n",
    "                while real_num >= 10:\n",
    "                    n_div_10 = real_num // 10\n",
    "                    real_num = real_num - (n_div_10 * 10)\n",
    "                    \n",
    "        \n",
    "                sums_of_nums = (n_div_100 ** 3) + (n_div_10 ** 3) + (real_num ** 3)\n",
    "                if sums_of_nums == i:\n",
    "                    print(i)\n",
    "                i += 1\n",
    "    except Exception as e:\n",
    "        return str(e)"
   ]
  },
  {
   "cell_type": "code",
   "execution_count": 10,
   "id": "ab41e08b",
   "metadata": {},
   "outputs": [
    {
     "name": "stdout",
     "output_type": "stream",
     "text": [
      "153\n",
      "370\n",
      "371\n"
     ]
    }
   ],
   "source": [
    "armstrong_interval(153, 371)"
   ]
  },
  {
   "cell_type": "markdown",
   "id": "6da809ea",
   "metadata": {},
   "source": [
    "### Question 6\n",
    "\n",
    "\n",
    "6. Write a Python Program to Find the Sum of Natural Numbers?"
   ]
  },
  {
   "cell_type": "code",
   "execution_count": 18,
   "id": "93bf6727",
   "metadata": {},
   "outputs": [],
   "source": [
    "def Sum_Of_Natural_Numbers(n):\n",
    "    \"\"\"\n",
    "    This function takes an argument 'n' and finds the sum\n",
    "    of all natural numbers in the range. Natural numbers are whole numbers excluding zero(0)\n",
    "    \"\"\"\n",
    "    \n",
    "    try:\n",
    "        if n == 0:\n",
    "            return f\"{n} is not a natural number\"\n",
    "        elif n >= 1:  \n",
    "            sum_of_no = 0\n",
    "            for i in range(1,n+1):\n",
    "                sum_of_no += i\n",
    "                i += 1\n",
    "            return f\"The total sum of natural numbers in the range {n} is {sum_of_no}\"\n",
    "    except Exception as e:\n",
    "        return str(e)"
   ]
  },
  {
   "cell_type": "code",
   "execution_count": 19,
   "id": "33c781d6",
   "metadata": {},
   "outputs": [
    {
     "data": {
      "text/plain": [
       "'The total sum of natural numbers in the range 5 is 15'"
      ]
     },
     "execution_count": 19,
     "metadata": {},
     "output_type": "execute_result"
    }
   ],
   "source": [
    "Sum_Of_Natural_Numbers(5)"
   ]
  },
  {
   "cell_type": "code",
   "execution_count": 20,
   "id": "813f355c",
   "metadata": {},
   "outputs": [
    {
     "data": {
      "text/plain": [
       "'The total sum of natural numbers in the range 2 is 3'"
      ]
     },
     "execution_count": 20,
     "metadata": {},
     "output_type": "execute_result"
    }
   ],
   "source": [
    "Sum_Of_Natural_Numbers(2)"
   ]
  },
  {
   "cell_type": "code",
   "execution_count": 21,
   "id": "30263052",
   "metadata": {},
   "outputs": [
    {
     "data": {
      "text/plain": [
       "'0 is not a natural number'"
      ]
     },
     "execution_count": 21,
     "metadata": {},
     "output_type": "execute_result"
    }
   ],
   "source": [
    "Sum_Of_Natural_Numbers(0)"
   ]
  },
  {
   "cell_type": "code",
   "execution_count": null,
   "id": "6fc23517",
   "metadata": {},
   "outputs": [],
   "source": []
  }
 ],
 "metadata": {
  "kernelspec": {
   "display_name": "Python 3 (ipykernel)",
   "language": "python",
   "name": "python3"
  },
  "language_info": {
   "codemirror_mode": {
    "name": "ipython",
    "version": 3
   },
   "file_extension": ".py",
   "mimetype": "text/x-python",
   "name": "python",
   "nbconvert_exporter": "python",
   "pygments_lexer": "ipython3",
   "version": "3.10.9"
  }
 },
 "nbformat": 4,
 "nbformat_minor": 5
}
