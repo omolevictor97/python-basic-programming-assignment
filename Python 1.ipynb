{
 "cells": [
  {
   "cell_type": "markdown",
   "id": "67aa0ecf",
   "metadata": {},
   "source": [
    "### Question 1\n",
    "\n",
    "1. Write a Python program to print &quot;Hello Python&quot;?"
   ]
  },
  {
   "cell_type": "code",
   "execution_count": 1,
   "id": "21a713e4",
   "metadata": {},
   "outputs": [
    {
     "name": "stdout",
     "output_type": "stream",
     "text": [
      "Hello Python\n"
     ]
    }
   ],
   "source": [
    "print(\"Hello Python\")"
   ]
  },
  {
   "cell_type": "markdown",
   "id": "a719e9f9",
   "metadata": {},
   "source": [
    "### Question 2\n",
    "\n",
    "\n",
    "2. Write a Python program to do arithmetical operations addition and division.?"
   ]
  },
  {
   "cell_type": "code",
   "execution_count": 4,
   "id": "cc4bf754",
   "metadata": {},
   "outputs": [
    {
     "name": "stdout",
     "output_type": "stream",
     "text": [
      "8 , 1.6666666666666667\n"
     ]
    }
   ],
   "source": [
    "a = 5\n",
    "b = 3\n",
    "\n",
    "c = a+b\n",
    "d = a/b\n",
    "\n",
    "print(c,\",\", d)"
   ]
  },
  {
   "cell_type": "markdown",
   "id": "4d9f3a68",
   "metadata": {},
   "source": [
    "### Question 3\n",
    "\n",
    "\n",
    "3. Write a Python program to find the area of a triangle?"
   ]
  },
  {
   "cell_type": "code",
   "execution_count": 5,
   "id": "d762afed",
   "metadata": {},
   "outputs": [
    {
     "name": "stdout",
     "output_type": "stream",
     "text": [
      "Enter the base here >: 2\n",
      "Enter the height here >: 4\n",
      "The area of a triangle with base 2 and height 4 is 4.0\n"
     ]
    }
   ],
   "source": [
    "base = int(input(\"Enter the base here >: \"))\n",
    "height = int(input(\"Enter the height here >: \"))\n",
    "\n",
    "area = 0.5 * (base * height)\n",
    "\n",
    "print(f\"The area of a triangle with base {base} and height {height} is {area}\")"
   ]
  },
  {
   "cell_type": "markdown",
   "id": "5704afeb",
   "metadata": {},
   "source": [
    "### Question 4\n",
    "\n",
    "\n",
    "4. Write a Python program to swap two variables?"
   ]
  },
  {
   "cell_type": "code",
   "execution_count": 6,
   "id": "3a571f7f",
   "metadata": {},
   "outputs": [
    {
     "name": "stdout",
     "output_type": "stream",
     "text": [
      "12\n"
     ]
    }
   ],
   "source": [
    "x = 12\n",
    "\n",
    "y = x\n",
    "\n",
    "print(y)"
   ]
  },
  {
   "cell_type": "markdown",
   "id": "5732dbf3",
   "metadata": {},
   "source": [
    "### Question 5\n",
    "\n",
    "5. Write a Python program to generate a random number?"
   ]
  },
  {
   "cell_type": "code",
   "execution_count": 7,
   "id": "f6551ccf",
   "metadata": {},
   "outputs": [],
   "source": [
    "import random"
   ]
  },
  {
   "cell_type": "code",
   "execution_count": 8,
   "id": "4bcbd5ca",
   "metadata": {},
   "outputs": [
    {
     "data": {
      "text/plain": [
       "22"
      ]
     },
     "execution_count": 8,
     "metadata": {},
     "output_type": "execute_result"
    }
   ],
   "source": [
    "random.randrange(12, 120, 10)"
   ]
  },
  {
   "cell_type": "code",
   "execution_count": null,
   "id": "35aeb82a",
   "metadata": {},
   "outputs": [],
   "source": []
  }
 ],
 "metadata": {
  "kernelspec": {
   "display_name": "Python 3 (ipykernel)",
   "language": "python",
   "name": "python3"
  },
  "language_info": {
   "codemirror_mode": {
    "name": "ipython",
    "version": 3
   },
   "file_extension": ".py",
   "mimetype": "text/x-python",
   "name": "python",
   "nbconvert_exporter": "python",
   "pygments_lexer": "ipython3",
   "version": "3.10.9"
  }
 },
 "nbformat": 4,
 "nbformat_minor": 5
}
