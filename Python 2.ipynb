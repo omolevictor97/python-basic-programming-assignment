{
 "cells": [
  {
   "cell_type": "markdown",
   "id": "1c97de9c",
   "metadata": {},
   "source": [
    "### Question 1\n",
    "\n",
    "\n",
    "1. Write a Python program to convert kilometers to miles?"
   ]
  },
  {
   "cell_type": "code",
   "execution_count": 1,
   "id": "bd65a45a",
   "metadata": {},
   "outputs": [
    {
     "name": "stdout",
     "output_type": "stream",
     "text": [
      "Enter the mile you wish to kilometer >:35\n",
      "Your mile input is 35 and it's conversion in kilometer is 21.748045782743237\n"
     ]
    }
   ],
   "source": [
    "kilometers = 1.60934\n",
    "\n",
    "miles = int(input(\"Enter the mile you wish to kilometer >:\"))\n",
    "\n",
    "result = miles / kilometers\n",
    "\n",
    "print(f\"Your mile input is {miles} and it's conversion in kilometer is {result}\")"
   ]
  },
  {
   "cell_type": "markdown",
   "id": "86dfb9fa",
   "metadata": {},
   "source": [
    "### Question 2\n",
    "\n",
    "2. Write a Python program to convert Celsius to Fahrenheit?"
   ]
  },
  {
   "cell_type": "code",
   "execution_count": 4,
   "id": "afe31961",
   "metadata": {},
   "outputs": [
    {
     "name": "stdout",
     "output_type": "stream",
     "text": [
      "Enter the value you wish to convert in celsius >: 90\n",
      "Celsius value is 90 and the corresponding Fahrenheit value is 194.0\n"
     ]
    }
   ],
   "source": [
    "celsius = int(input(\"Enter the value you wish to convert in celsius >: \"))\n",
    "\n",
    "formula = (celsius * (9/5)) + 32\n",
    "\n",
    "print(f\"Celsius value is {celsius} and the corresponding Fahrenheit value is {formula}\")"
   ]
  },
  {
   "cell_type": "markdown",
   "id": "29c1f8f9",
   "metadata": {},
   "source": [
    "### Question 3 \n",
    "\n",
    "\n",
    "3. Write a Python program to display calendar?"
   ]
  },
  {
   "cell_type": "code",
   "execution_count": 7,
   "id": "d9d10511",
   "metadata": {},
   "outputs": [
    {
     "name": "stdout",
     "output_type": "stream",
     "text": [
      "Enter the year you want here >: 2023\n",
      "Enter the number of month you want6\n",
      "    January 2023\n",
      "Mo Tu We Th Fr Sa Su\n",
      "                   1\n",
      " 2  3  4  5  6  7  8\n",
      " 9 10 11 12 13 14 15\n",
      "16 17 18 19 20 21 22\n",
      "23 24 25 26 27 28 29\n",
      "30 31\n",
      "\n",
      "   February 2023\n",
      "Mo Tu We Th Fr Sa Su\n",
      "       1  2  3  4  5\n",
      " 6  7  8  9 10 11 12\n",
      "13 14 15 16 17 18 19\n",
      "20 21 22 23 24 25 26\n",
      "27 28\n",
      "\n",
      "     March 2023\n",
      "Mo Tu We Th Fr Sa Su\n",
      "       1  2  3  4  5\n",
      " 6  7  8  9 10 11 12\n",
      "13 14 15 16 17 18 19\n",
      "20 21 22 23 24 25 26\n",
      "27 28 29 30 31\n",
      "\n",
      "     April 2023\n",
      "Mo Tu We Th Fr Sa Su\n",
      "                1  2\n",
      " 3  4  5  6  7  8  9\n",
      "10 11 12 13 14 15 16\n",
      "17 18 19 20 21 22 23\n",
      "24 25 26 27 28 29 30\n",
      "\n",
      "      May 2023\n",
      "Mo Tu We Th Fr Sa Su\n",
      " 1  2  3  4  5  6  7\n",
      " 8  9 10 11 12 13 14\n",
      "15 16 17 18 19 20 21\n",
      "22 23 24 25 26 27 28\n",
      "29 30 31\n",
      "\n",
      "     June 2023\n",
      "Mo Tu We Th Fr Sa Su\n",
      "          1  2  3  4\n",
      " 5  6  7  8  9 10 11\n",
      "12 13 14 15 16 17 18\n",
      "19 20 21 22 23 24 25\n",
      "26 27 28 29 30\n",
      "\n"
     ]
    }
   ],
   "source": [
    "import calendar\n",
    "\n",
    "year = input(\"Enter the year you want here >: \")\n",
    "month = int(input(\"Enter the number of month you want\"))\n",
    "\n",
    "if len(year) > 4 or len(year) < 4:\n",
    "    print(\"Wrong Year Format\")\n",
    "else:\n",
    "    yy = int(year)\n",
    "    for i in range(1,month+1):\n",
    "        print(calendar.month(yy, i))"
   ]
  },
  {
   "cell_type": "markdown",
   "id": "f3a81403",
   "metadata": {},
   "source": [
    "### Question 4\n",
    "\n",
    "4. Write a Python program to solve quadratic equation?"
   ]
  },
  {
   "cell_type": "code",
   "execution_count": 12,
   "id": "27bcf5af",
   "metadata": {},
   "outputs": [
    {
     "name": "stdout",
     "output_type": "stream",
     "text": [
      "Enter the coefficient of A here >: 1\n",
      "Enter the coefficient of B here >: 5\n",
      "Enter the coefficient of C here >: 6\n"
     ]
    }
   ],
   "source": [
    "a = int(input(\"Enter the coefficient of A here >: \"))\n",
    "b = int(input(\"Enter the coefficient of B here >: \"))\n",
    "c = int(input(\"Enter the coefficient of C here >: \"))\n",
    "\n",
    "x1 = (-b + (((b**2) - (4 * a * c)) ** 0.5)) / 2 * a\n",
    "x2 = (-b - (((b**2) - (4 * a * c)) ** 0.5)) / 2 * a"
   ]
  },
  {
   "cell_type": "code",
   "execution_count": 13,
   "id": "a1c0441b",
   "metadata": {},
   "outputs": [
    {
     "name": "stdout",
     "output_type": "stream",
     "text": [
      "\n",
      "    The value of root x1 -2.0, \n",
      "    The value of root x2 -3.0\n",
      "\n"
     ]
    }
   ],
   "source": [
    "print(f\"\"\"\n",
    "    The value of root x1 {x1}, \n",
    "    The value of root x2 {x2}\n",
    "\"\"\")"
   ]
  },
  {
   "cell_type": "markdown",
   "id": "689dad7b",
   "metadata": {},
   "source": [
    "### Another Approach"
   ]
  },
  {
   "cell_type": "code",
   "execution_count": 17,
   "id": "906f5e06",
   "metadata": {},
   "outputs": [
    {
     "name": "stdout",
     "output_type": "stream",
     "text": [
      "Enter the coefficient of A here >: 1\n",
      "Enter the coefficient of B here >: 5\n",
      "Enter the coefficient of C here >: 6\n"
     ]
    }
   ],
   "source": [
    "import math\n",
    "\n",
    "a = int(input(\"Enter the coefficient of A here >: \"))\n",
    "b = int(input(\"Enter the coefficient of B here >: \"))\n",
    "c = int(input(\"Enter the coefficient of C here >: \"))\n",
    "\n",
    "x1 = (-b + math.sqrt((b**2) - (4 * a * c))) / 2 * a\n",
    "x2 = (-b - math.sqrt((b**2) - (4 * a * c))) / 2 * a"
   ]
  },
  {
   "cell_type": "code",
   "execution_count": 18,
   "id": "3df20ec0",
   "metadata": {},
   "outputs": [
    {
     "name": "stdout",
     "output_type": "stream",
     "text": [
      "\n",
      "    The value of root x1 -2.0, \n",
      "    The value of root x2 -3.0\n",
      "\n"
     ]
    }
   ],
   "source": [
    "print(f\"\"\"\n",
    "    The value of root x1 {x1}, \n",
    "    The value of root x2 {x2}\n",
    "\"\"\")"
   ]
  },
  {
   "cell_type": "markdown",
   "id": "cb12ad5a",
   "metadata": {},
   "source": [
    "### Question 5\n",
    "\n",
    "5. Write a Python program to swap two variables without temp variable?"
   ]
  },
  {
   "cell_type": "code",
   "execution_count": 19,
   "id": "81f9c256",
   "metadata": {},
   "outputs": [
    {
     "name": "stdout",
     "output_type": "stream",
     "text": [
      "before swapping\n",
      "\n",
      "    a = 10\n",
      "    b = 5\n",
      "\n"
     ]
    }
   ],
   "source": [
    "def swap_var(a,b):\n",
    "    a = a+b\n",
    "    b = a-b\n",
    "    a = a-b\n",
    "    \n",
    "    return a,b\n",
    "print(\"before swapping\")\n",
    "\n",
    "a, b = 10, 5\n",
    "\n",
    "print(f\"\"\"\n",
    "    a = {a}\n",
    "    b = {b}\n",
    "\"\"\")"
   ]
  },
  {
   "cell_type": "code",
   "execution_count": 22,
   "id": "143b85df",
   "metadata": {},
   "outputs": [
    {
     "name": "stdout",
     "output_type": "stream",
     "text": [
      "After Swapping\n",
      "\n",
      "    a = 5\n",
      "    b = 10\n",
      "\n"
     ]
    }
   ],
   "source": [
    "print(\"After Swapping\")\n",
    "\n",
    "a,b = swap_var(10,5)\n",
    "\n",
    "\n",
    "print(f\"\"\"\n",
    "    a = {a}\n",
    "    b = {b}\n",
    "\"\"\")"
   ]
  },
  {
   "cell_type": "code",
   "execution_count": null,
   "id": "718ef6c3",
   "metadata": {},
   "outputs": [],
   "source": []
  }
 ],
 "metadata": {
  "kernelspec": {
   "display_name": "Python 3 (ipykernel)",
   "language": "python",
   "name": "python3"
  },
  "language_info": {
   "codemirror_mode": {
    "name": "ipython",
    "version": 3
   },
   "file_extension": ".py",
   "mimetype": "text/x-python",
   "name": "python",
   "nbconvert_exporter": "python",
   "pygments_lexer": "ipython3",
   "version": "3.10.9"
  }
 },
 "nbformat": 4,
 "nbformat_minor": 5
}
